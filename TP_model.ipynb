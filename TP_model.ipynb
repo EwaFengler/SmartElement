{
  "nbformat": 4,
  "nbformat_minor": 0,
  "metadata": {
    "colab": {
      "name": "TP_model.ipynb",
      "provenance": [],
      "collapsed_sections": []
    },
    "kernelspec": {
      "name": "python3",
      "display_name": "Python 3"
    }
  },
  "cells": [
    {
      "cell_type": "code",
      "metadata": {
        "id": "1NK8JEJUhNZl",
        "colab_type": "code",
        "colab": {
          "base_uri": "https://localhost:8080/",
          "height": 439
        },
        "outputId": "8db7fcf4-6260-4ac0-cad1-145e75c2dc83"
      },
      "source": [
        "!git init; git remote add origin https://github.com/EwaFengler/SmartElementData/; git pull origin master"
      ],
      "execution_count": null,
      "outputs": [
        {
          "output_type": "stream",
          "text": [
            "Reinitialized existing Git repository in /content/.git/\n",
            "fatal: remote origin already exists.\n",
            "remote: Enumerating objects: 11, done.\u001b[K\n",
            "remote: Counting objects:   9% (1/11)\u001b[K\rremote: Counting objects:  18% (2/11)\u001b[K\rremote: Counting objects:  27% (3/11)\u001b[K\rremote: Counting objects:  36% (4/11)\u001b[K\rremote: Counting objects:  45% (5/11)\u001b[K\rremote: Counting objects:  54% (6/11)\u001b[K\rremote: Counting objects:  63% (7/11)\u001b[K\rremote: Counting objects:  72% (8/11)\u001b[K\rremote: Counting objects:  81% (9/11)\u001b[K\rremote: Counting objects:  90% (10/11)\u001b[K\rremote: Counting objects: 100% (11/11)\u001b[K\rremote: Counting objects: 100% (11/11), done.\u001b[K\n",
            "remote: Compressing objects:  16% (1/6)\u001b[K\rremote: Compressing objects:  33% (2/6)\u001b[K\rremote: Compressing objects:  50% (3/6)\u001b[K\rremote: Compressing objects:  66% (4/6)\u001b[K\rremote: Compressing objects:  83% (5/6)\u001b[K\rremote: Compressing objects: 100% (6/6)\u001b[K\rremote: Compressing objects: 100% (6/6), done.\u001b[K\n",
            "remote: Total 6 (delta 3), reused 3 (delta 0), pack-reused 0\u001b[K\n",
            "Unpacking objects:  16% (1/6)   \rUnpacking objects:  33% (2/6)   \rUnpacking objects:  50% (3/6)   \rUnpacking objects:  66% (4/6)   \rUnpacking objects:  83% (5/6)   \rUnpacking objects: 100% (6/6)   \rUnpacking objects: 100% (6/6), done.\n",
            "From https://github.com/EwaFengler/SmartElementData\n",
            " * branch            master     -> FETCH_HEAD\n",
            "   3168995..8f211ae  master     -> origin/master\n",
            "Updating 3168995..8f211ae\n",
            "Fast-forward\n",
            " D/forward/16-05_18-53-57    | 76 \u001b[31m--------------------------------------------\u001b[m\n",
            " D/forward/22-05_16-18-46    | 76 \u001b[31m--------------------------------------------\u001b[m\n",
            " D/horizontal/16-05_18-46-42 | 76 \u001b[31m--------------------------------------------\u001b[m\n",
            " D/horizontal/16-05_18-48-08 | 77 \u001b[31m---------------------------------------------\u001b[m\n",
            " D/vertical/16-05_18-56-39   | 76 \u001b[31m--------------------------------------------\u001b[m\n",
            " 5 files changed, 381 deletions(-)\n",
            " delete mode 100644 D/forward/16-05_18-53-57\n",
            " delete mode 100644 D/forward/22-05_16-18-46\n",
            " delete mode 100644 D/horizontal/16-05_18-46-42\n",
            " delete mode 100644 D/horizontal/16-05_18-48-08\n",
            " delete mode 100644 D/vertical/16-05_18-56-39\n"
          ],
          "name": "stdout"
        }
      ]
    },
    {
      "cell_type": "code",
      "metadata": {
        "id": "AEBHhePhJkCL",
        "colab_type": "code",
        "colab": {}
      },
      "source": [
        "import pandas\n",
        "import matplotlib.pyplot as plt\n",
        "from os import listdir\n",
        "from os.path import isfile, join\n",
        "import numpy as np"
      ],
      "execution_count": null,
      "outputs": []
    },
    {
      "cell_type": "code",
      "metadata": {
        "id": "PhKhfMYPT_lv",
        "colab_type": "code",
        "colab": {}
      },
      "source": [
        "%tensorflow_version 2.x\n",
        "import tensorflow as tf"
      ],
      "execution_count": null,
      "outputs": []
    },
    {
      "cell_type": "code",
      "metadata": {
        "id": "RJisXGNL31Xa",
        "colab_type": "code",
        "colab": {}
      },
      "source": [
        "# data_path = \"MovesGravity/\"\n",
        "data_path = \"\"\n",
        "\n",
        "DATA_SERIES = 3\n",
        "\n",
        "SIZE = DATA_SERIES * 20"
      ],
      "execution_count": null,
      "outputs": []
    },
    {
      "cell_type": "code",
      "metadata": {
        "id": "Oc1J9gQLSAO5",
        "colab_type": "code",
        "colab": {
          "base_uri": "https://localhost:8080/",
          "height": 1000
        },
        "outputId": "b676cf66-e8af-4aa1-ec63-7d55c6bfb7b5"
      },
      "source": [
        "def xd(path=data_path+\"D/forward\"):\n",
        "    return [join(path, f) for f in listdir(path) if isfile(join(path, f))]\n",
        "\n",
        "xd()"
      ],
      "execution_count": null,
      "outputs": [
        {
          "output_type": "execute_result",
          "data": {
            "text/plain": [
              "['D/forward/16-05_18-54-39',\n",
              " 'D/forward/22-05_16-20-26',\n",
              " 'D/forward/16-05_18-52-40',\n",
              " 'D/forward/22-05_16-19-30',\n",
              " 'D/forward/22-05_16-20-06',\n",
              " 'D/forward/22-05_16-18-43',\n",
              " 'D/forward/16-05_18-53-54',\n",
              " 'D/forward/16-05_18-53-14',\n",
              " 'D/forward/22-05_16-20-17',\n",
              " 'D/forward/16-05_18-52-22',\n",
              " 'D/forward/16-05_18-54-06',\n",
              " 'D/forward/16-05_18-52-47',\n",
              " 'D/forward/16-05_18-54-10',\n",
              " 'D/forward/22-05_16-18-56',\n",
              " 'D/forward/22-05_16-19-58',\n",
              " 'D/forward/16-05_18-51-53',\n",
              " 'D/forward/16-05_18-54-26',\n",
              " 'D/forward/16-05_18-54-55',\n",
              " 'D/forward/22-05_16-18-30',\n",
              " 'D/forward/16-05_18-52-19',\n",
              " 'D/forward/22-05_16-18-33',\n",
              " 'D/forward/22-05_16-18-59',\n",
              " 'D/forward/22-05_16-19-21',\n",
              " 'D/forward/22-05_16-20-57',\n",
              " 'D/forward/16-05_18-52-36',\n",
              " 'D/forward/16-05_18-51-50',\n",
              " 'D/forward/16-05_18-53-42',\n",
              " 'D/forward/22-05_16-19-53',\n",
              " 'D/forward/22-05_16-19-55',\n",
              " 'D/forward/16-05_18-52-09',\n",
              " 'D/forward/22-05_16-19-17',\n",
              " 'D/forward/22-05_16-20-23',\n",
              " 'D/forward/16-05_18-53-05',\n",
              " 'D/forward/22-05_16-20-40',\n",
              " 'D/forward/22-05_16-20-31',\n",
              " 'D/forward/16-05_18-53-48',\n",
              " 'D/forward/16-05_18-53-08',\n",
              " 'D/forward/22-05_16-20-36',\n",
              " 'D/forward/16-05_18-52-06',\n",
              " 'D/forward/22-05_16-19-12',\n",
              " 'D/forward/22-05_16-19-27',\n",
              " 'D/forward/16-05_18-54-17',\n",
              " 'D/forward/22-05_16-19-24',\n",
              " 'D/forward/16-05_18-54-23',\n",
              " 'D/forward/16-05_18-53-11',\n",
              " 'D/forward/16-05_18-51-56',\n",
              " 'D/forward/22-05_16-19-44',\n",
              " 'D/forward/22-05_16-19-39',\n",
              " 'D/forward/22-05_16-19-36',\n",
              " 'D/forward/22-05_16-19-33',\n",
              " 'D/forward/22-05_16-19-06',\n",
              " 'D/forward/16-05_18-53-02',\n",
              " 'D/forward/16-05_18-52-59',\n",
              " 'D/forward/22-05_16-19-03',\n",
              " 'D/forward/22-05_16-20-28',\n",
              " 'D/forward/16-05_18-51-43',\n",
              " 'D/forward/16-05_18-52-32',\n",
              " 'D/forward/22-05_16-20-14',\n",
              " 'D/forward/16-05_18-54-33',\n",
              " 'D/forward/22-05_16-20-20',\n",
              " 'D/forward/22-05_16-18-36',\n",
              " 'D/forward/22-05_16-20-03',\n",
              " 'D/forward/22-05_16-20-45',\n",
              " 'D/forward/16-05_18-54-29',\n",
              " 'D/forward/22-05_16-18-40',\n",
              " 'D/forward/22-05_16-18-53',\n",
              " 'D/forward/16-05_18-55-00',\n",
              " 'D/forward/22-05_16-20-01',\n",
              " 'D/forward/22-05_16-18-50',\n",
              " 'D/forward/22-05_16-20-48',\n",
              " 'D/forward/22-05_16-20-43',\n",
              " 'D/forward/16-05_18-53-36',\n",
              " 'D/forward/16-05_18-51-46',\n",
              " 'D/forward/16-05_18-54-14',\n",
              " 'D/forward/22-05_16-19-14',\n",
              " 'D/forward/16-05_18-53-39',\n",
              " 'D/forward/16-05_18-52-15',\n",
              " 'D/forward/16-05_18-52-12',\n",
              " 'D/forward/22-05_16-20-11',\n",
              " 'D/forward/16-05_18-52-03',\n",
              " 'D/forward/16-05_18-53-51',\n",
              " 'D/forward/16-05_18-52-43',\n",
              " 'D/forward/22-05_16-20-54',\n",
              " 'D/forward/16-05_18-54-58',\n",
              " 'D/forward/22-05_16-19-50',\n",
              " 'D/forward/16-05_18-54-52',\n",
              " 'D/forward/16-05_18-53-45',\n",
              " 'D/forward/22-05_16-20-09',\n",
              " 'D/forward/16-05_18-54-20',\n",
              " 'D/forward/16-05_18-52-00',\n",
              " 'D/forward/22-05_16-20-51',\n",
              " 'D/forward/16-05_18-54-36',\n",
              " 'D/forward/16-05_18-54-03',\n",
              " 'D/forward/16-05_18-54-00',\n",
              " 'D/forward/22-05_16-19-09',\n",
              " 'D/forward/22-05_16-20-34',\n",
              " 'D/forward/16-05_18-52-29',\n",
              " 'D/forward/22-05_16-19-41']"
            ]
          },
          "metadata": {
            "tags": []
          },
          "execution_count": 61
        }
      ]
    },
    {
      "cell_type": "code",
      "metadata": {
        "id": "Y6AGIuaOJrsr",
        "colab_type": "code",
        "colab": {}
      },
      "source": [
        "def movesGenerator(path, y):\n",
        "    def prepareMoves():\n",
        "        files = [join(path, f) for f in listdir(path) if isfile(join(path, f))]\n",
        "      \n",
        "        for file in files:\n",
        "            data = pandas.read_csv(file, sep=\" \", names=[\"time\", \"x\", \"y\", \"z\", \"xg\", \"yg\", \"zg\", \"a\", \"p\", \"r\"])\n",
        "\n",
        "            del data['a']\n",
        "            del data['p']\n",
        "            del data['r']\n",
        "            del data['z']\n",
        "            del data['xg']\n",
        "            del data['yg']\n",
        "\n",
        "            data[\"time\"] //= 1000000\n",
        "\n",
        "            #16 obserwacji na 1s\n",
        "            data[\"time\"] //= 62.5 \n",
        "            data = data.groupby('time').mean()\n",
        "\n",
        "            #1 wymiar do sieci\n",
        "            data = data[:19].to_numpy().flatten()\n",
        "\n",
        "            yield data, y\n",
        "\n",
        "    return prepareMoves"
      ],
      "execution_count": null,
      "outputs": []
    },
    {
      "cell_type": "code",
      "metadata": {
        "id": "lZw2lqqpJGsE",
        "colab_type": "code",
        "colab": {}
      },
      "source": [
        "def randomGenerator(path, step):\n",
        "    def prepareRandom():\n",
        "        files = [join(path, f) for f in listdir(path) if isfile(join(path, f))]\n",
        "      \n",
        "        for file in files:\n",
        "            data = pandas.read_csv(file, sep=\" \", names=[\"time\", \"x\", \"y\", \"z\", \"xg\", \"yg\", \"zg\", \"a\", \"p\", \"r\"])\n",
        "\n",
        "            del data['a']\n",
        "            del data['p']\n",
        "            del data['r']\n",
        "            del data['z']\n",
        "            del data['xg']\n",
        "            del data['yg']\n",
        "\n",
        "            data[\"time\"] //= 1000000\n",
        "\n",
        "            #16 obserwacji na 1s\n",
        "            data[\"time\"] //= 62.5 \n",
        "            data = data.groupby('time').mean()\n",
        "\n",
        "            i = 0\n",
        "            while i + 20 < len(data):\n",
        "                res = data[i:i+19].to_numpy().flatten()\n",
        "                if len(res) == SIZE:\n",
        "                    yield res, [0,0,0]\n",
        "                # yield data[i:i+19]\n",
        "                i += step\n",
        "  \n",
        "    return prepareRandom"
      ],
      "execution_count": null,
      "outputs": []
    },
    {
      "cell_type": "code",
      "metadata": {
        "id": "VNLc6j0wPLLM",
        "colab_type": "code",
        "colab": {}
      },
      "source": [
        "# from ipywidgets import interact, IntSlider\n",
        "\n",
        "# @interact(k=IntSlider(min=0, max=276))\n",
        "# def asdf(k):\n",
        "#   i = 0\n",
        "#   for d in randomGenerator(\"E/random\")():\n",
        "#     if(i == k):\n",
        "#       d.plot()\n",
        "#     i += 1\n",
        "    "
      ],
      "execution_count": null,
      "outputs": []
    },
    {
      "cell_type": "code",
      "metadata": {
        "id": "vc0AD_10Jr5F",
        "colab_type": "code",
        "colab": {}
      },
      "source": [
        "ds_eh = tf.data.Dataset.from_generator(movesGenerator(data_path+\"E/horizontal\", [1,0,0]), (tf.float32, tf.int64), output_shapes=((SIZE,), (3,))) \\\n",
        "  .shuffle(100)\n",
        "ds_dh = tf.data.Dataset.from_generator(movesGenerator(data_path+\"D/horizontal\", [1,0,0]), (tf.float32, tf.int64), output_shapes=((SIZE,), (3,))) \\\n",
        "  .shuffle(100)\n",
        "ds_ev = tf.data.Dataset.from_generator(movesGenerator(data_path+\"E/vertical\", [0,1,0]), (tf.float32, tf.int64), output_shapes=((SIZE,), (3,))) \\\n",
        "  .shuffle(100)\n",
        "ds_dv = tf.data.Dataset.from_generator(movesGenerator(data_path+\"D/vertical\", [0,1,0]), (tf.float32, tf.int64), output_shapes=((SIZE,), (3,))) \\\n",
        "  .shuffle(100)\n",
        "ds_ef = tf.data.Dataset.from_generator(movesGenerator(data_path+\"E/forward\", [0,0,1]), (tf.float32, tf.int64), output_shapes=((SIZE,), (3,))) \\\n",
        "  .shuffle(100)\n",
        "ds_df = tf.data.Dataset.from_generator(movesGenerator(data_path+\"D/forward\", [0,0,1]), (tf.float32, tf.int64), output_shapes=((SIZE,), (3,))) \\\n",
        "  .shuffle(100)\n",
        "ds_er = tf.data.Dataset.from_generator(randomGenerator(data_path+\"E/random\", 5), (tf.float32, tf.int64), output_shapes=((SIZE,), (3,))) \\\n",
        "  .shuffle(100)\n",
        "ds_dr = tf.data.Dataset.from_generator(randomGenerator(data_path+\"D/random\", 5), (tf.float32, tf.int64), output_shapes=((SIZE,), (3,))) \\\n",
        "  .shuffle(100)"
      ],
      "execution_count": null,
      "outputs": []
    },
    {
      "cell_type": "code",
      "metadata": {
        "id": "bmwfUszEfEEg",
        "colab_type": "code",
        "colab": {}
      },
      "source": [
        "#rozmiar: 1276\n",
        "\n",
        "ds_all = ds_eh.concatenate(ds_dh) \\\n",
        "  .concatenate(ds_ev) \\\n",
        "  .concatenate(ds_dv) \\\n",
        "  .concatenate(ds_ef) \\\n",
        "  .concatenate(ds_df) \\\n",
        "  .concatenate(ds_er) \\\n",
        "  .concatenate(ds_dr) \\\n",
        "  .shuffle(2000) \\\n",
        "  .batch(32)\n",
        "\n",
        "# #only D\n",
        "# ds_all = ds_dh \\\n",
        "#   .concatenate(ds_dv) \\\n",
        "#   .concatenate(ds_df) \\\n",
        "#   .concatenate(ds_dr) \\\n",
        "#   .shuffle(2000) \\\n",
        "#   .batch(32)\n",
        "\n",
        "\n",
        "# #only E\n",
        "# ds_all = ds_eh \\\n",
        "#   .concatenate(ds_ev) \\\n",
        "#   .concatenate(ds_ef) \\\n",
        "#   .concatenate(ds_er) \\\n",
        "#   .shuffle(2000) \\\n",
        "#   .batch(32)\n",
        "\n",
        "# ds_train = ds_eh.skip(15) \\\n",
        "#   .concatenate(ds_dh.skip(15)) \\\n",
        "#   .concatenate(ds_ev.skip(15)) \\\n",
        "#   .concatenate(ds_dv.skip(15)) \\\n",
        "#   .concatenate(ds_ef.skip(15)) \\\n",
        "#   .concatenate(ds_df.skip(15)) \\\n",
        "#   .concatenate(ds_er.skip(50)) \\\n",
        "#   .concatenate(ds_dr.skip(50)) \\\n",
        "#   .shuffle(2000) \\\n",
        "#   .batch(32)\n",
        "\n",
        "# ds_test = ds_eh.take(15) \\\n",
        "#   .concatenate(ds_dh.take(15)) \\\n",
        "#   .concatenate(ds_ev.take(15)) \\\n",
        "#   .concatenate(ds_dv.take(15)) \\\n",
        "#   .concatenate(ds_ef.take(15)) \\\n",
        "#   .concatenate(ds_df.take(15)) \\\n",
        "#   .concatenate(ds_er.take(50)) \\\n",
        "#   .concatenate(ds_dr.take(50)) \\\n",
        "#   .shuffle(2000) \\\n",
        "#   .batch(32)"
      ],
      "execution_count": null,
      "outputs": []
    },
    {
      "cell_type": "code",
      "metadata": {
        "id": "N8MHpw2DqvPq",
        "colab_type": "code",
        "colab": {
          "base_uri": "https://localhost:8080/",
          "height": 164
        },
        "outputId": "9cff423c-8f10-4e67-ca95-3393aee81b79"
      },
      "source": [
        "for ds in [ds_eh, ds_ev, ds_ef, ds_er, ds_dh, ds_dv, ds_df, ds_dr]:\n",
        "  print(len(list(ds)))"
      ],
      "execution_count": null,
      "outputs": [
        {
          "output_type": "stream",
          "text": [
            "100\n",
            "104\n",
            "101\n",
            "278\n",
            "98\n",
            "99\n",
            "98\n",
            "170\n"
          ],
          "name": "stdout"
        }
      ]
    },
    {
      "cell_type": "code",
      "metadata": {
        "id": "VFzhyRCLLUhr",
        "colab_type": "code",
        "colab": {
          "base_uri": "https://localhost:8080/",
          "height": 403
        },
        "outputId": "a4a02fdb-7857-4670-fc5a-3cac457fe026"
      },
      "source": [
        "model = tf.keras.Sequential([\n",
        "      tf.keras.layers.Dense(100, 'relu'),\n",
        "      tf.keras.layers.Dropout(0.2),\n",
        "      tf.keras.layers.Dense(64, 'relu'),\n",
        "      tf.keras.layers.Dropout(0.2),\n",
        "      tf.keras.layers.Dense(32, 'relu'),\n",
        "      tf.keras.layers.Dropout(0.2),\n",
        "      tf.keras.layers.Dense(3, 'sigmoid')\n",
        "  ], name=\"model\")\n",
        "\n",
        "model.compile(optimizer='adam',\n",
        "              loss=tf.keras.losses.BinaryCrossentropy(),\n",
        "              metrics=['binary_accuracy'])\n",
        "\n",
        "# model.fit(ds_train, epochs=10, validation_data=ds_test, shuffle=True)\n",
        "model.fit(ds_all, epochs=10, shuffle=True)"
      ],
      "execution_count": null,
      "outputs": [
        {
          "output_type": "stream",
          "text": [
            "Epoch 1/10\n",
            "33/33 [==============================] - 0s 2ms/step - loss: 0.7059 - binary_accuracy: 0.7630\n",
            "Epoch 2/10\n",
            "33/33 [==============================] - 0s 2ms/step - loss: 0.3305 - binary_accuracy: 0.8725\n",
            "Epoch 3/10\n",
            "33/33 [==============================] - 0s 2ms/step - loss: 0.2412 - binary_accuracy: 0.9068\n",
            "Epoch 4/10\n",
            "33/33 [==============================] - 0s 2ms/step - loss: 0.1772 - binary_accuracy: 0.9354\n",
            "Epoch 5/10\n",
            "33/33 [==============================] - 0s 2ms/step - loss: 0.1350 - binary_accuracy: 0.9536\n",
            "Epoch 6/10\n",
            "33/33 [==============================] - 0s 2ms/step - loss: 0.0986 - binary_accuracy: 0.9682\n",
            "Epoch 7/10\n",
            "33/33 [==============================] - 0s 2ms/step - loss: 0.0835 - binary_accuracy: 0.9701\n",
            "Epoch 8/10\n",
            "33/33 [==============================] - 0s 2ms/step - loss: 0.0721 - binary_accuracy: 0.9787\n",
            "Epoch 9/10\n",
            "33/33 [==============================] - 0s 2ms/step - loss: 0.0506 - binary_accuracy: 0.9866\n",
            "Epoch 10/10\n",
            "33/33 [==============================] - 0s 2ms/step - loss: 0.0521 - binary_accuracy: 0.9844\n"
          ],
          "name": "stdout"
        },
        {
          "output_type": "execute_result",
          "data": {
            "text/plain": [
              "<tensorflow.python.keras.callbacks.History at 0x7f3f816b4da0>"
            ]
          },
          "metadata": {
            "tags": []
          },
          "execution_count": 68
        }
      ]
    },
    {
      "cell_type": "code",
      "metadata": {
        "id": "PxNazHWlMq4C",
        "colab_type": "code",
        "colab": {
          "base_uri": "https://localhost:8080/",
          "height": 35
        },
        "outputId": "3fbc0c3e-54cc-4e81-807b-29b65b7581b7"
      },
      "source": [
        "model.predict(ds_df.take(1).batch(1))"
      ],
      "execution_count": null,
      "outputs": [
        {
          "output_type": "execute_result",
          "data": {
            "text/plain": [
              "array([[1.7044335e-04, 1.6818142e-04, 9.9928468e-01]], dtype=float32)"
            ]
          },
          "metadata": {
            "tags": []
          },
          "execution_count": 69
        }
      ]
    },
    {
      "cell_type": "code",
      "metadata": {
        "id": "ERz1nTF0dKMz",
        "colab_type": "code",
        "colab": {
          "base_uri": "https://localhost:8080/",
          "height": 421
        },
        "outputId": "6684ad21-15cc-42bd-cb5d-fb507ce9ac20"
      },
      "source": [
        "model.summary()"
      ],
      "execution_count": null,
      "outputs": [
        {
          "output_type": "stream",
          "text": [
            "Model: \"model\"\n",
            "_________________________________________________________________\n",
            "Layer (type)                 Output Shape              Param #   \n",
            "=================================================================\n",
            "dense_12 (Dense)             multiple                  6100      \n",
            "_________________________________________________________________\n",
            "dropout_9 (Dropout)          multiple                  0         \n",
            "_________________________________________________________________\n",
            "dense_13 (Dense)             multiple                  6464      \n",
            "_________________________________________________________________\n",
            "dropout_10 (Dropout)         multiple                  0         \n",
            "_________________________________________________________________\n",
            "dense_14 (Dense)             multiple                  2080      \n",
            "_________________________________________________________________\n",
            "dropout_11 (Dropout)         multiple                  0         \n",
            "_________________________________________________________________\n",
            "dense_15 (Dense)             multiple                  99        \n",
            "=================================================================\n",
            "Total params: 14,743\n",
            "Trainable params: 14,743\n",
            "Non-trainable params: 0\n",
            "_________________________________________________________________\n"
          ],
          "name": "stdout"
        }
      ]
    },
    {
      "cell_type": "code",
      "metadata": {
        "id": "CIwmHeYEhDXA",
        "colab_type": "code",
        "colab": {
          "base_uri": "https://localhost:8080/",
          "height": 54
        },
        "outputId": "a729db67-a6d5-446e-a2f2-fc2d15602777"
      },
      "source": [
        "model.save(\"MLP_model\", include_optimizer=False)"
      ],
      "execution_count": null,
      "outputs": [
        {
          "output_type": "stream",
          "text": [
            "INFO:tensorflow:Assets written to: MLP_model/assets\n"
          ],
          "name": "stdout"
        },
        {
          "output_type": "stream",
          "text": [
            "INFO:tensorflow:Assets written to: MLP_model/assets\n"
          ],
          "name": "stderr"
        }
      ]
    },
    {
      "cell_type": "code",
      "metadata": {
        "id": "PnFp_0cTWuXN",
        "colab_type": "code",
        "colab": {}
      },
      "source": [
        "converter = tf.lite.TFLiteConverter.from_keras_model(model)\n",
        "tflite_model = converter.convert()\n",
        "\n",
        "f = open('hopefully_final_model_xy_zgravity.tflite', 'wb')\n",
        "f.write(tflite_model)\n",
        "f.close()"
      ],
      "execution_count": null,
      "outputs": []
    },
    {
      "cell_type": "code",
      "metadata": {
        "id": "UgxdjQA3My1-",
        "colab_type": "code",
        "colab": {}
      },
      "source": [
        ""
      ],
      "execution_count": null,
      "outputs": []
    },
    {
      "cell_type": "code",
      "metadata": {
        "id": "psJmKdVKMy9_",
        "colab_type": "code",
        "colab": {}
      },
      "source": [
        ""
      ],
      "execution_count": null,
      "outputs": []
    },
    {
      "cell_type": "code",
      "metadata": {
        "id": "vXKj9rx_My65",
        "colab_type": "code",
        "colab": {}
      },
      "source": [
        ""
      ],
      "execution_count": null,
      "outputs": []
    },
    {
      "cell_type": "code",
      "metadata": {
        "id": "fQXqhtVFLUdw",
        "colab_type": "code",
        "colab": {}
      },
      "source": [
        ""
      ],
      "execution_count": null,
      "outputs": []
    },
    {
      "cell_type": "code",
      "metadata": {
        "id": "08XgLiu_LUah",
        "colab_type": "code",
        "colab": {}
      },
      "source": [
        ""
      ],
      "execution_count": null,
      "outputs": []
    },
    {
      "cell_type": "markdown",
      "metadata": {
        "id": "alzFfuqyad6-",
        "colab_type": "text"
      },
      "source": [
        "STASH:\n"
      ]
    },
    {
      "cell_type": "code",
      "metadata": {
        "id": "jcN22Aljd7sj",
        "colab_type": "code",
        "colab": {
          "base_uri": "https://localhost:8080/",
          "height": 172
        },
        "outputId": "e075560e-e06e-47ec-a4c9-e0a388271a7c"
      },
      "source": [
        "assert False, \"do not run rest of cells when using 'run all'\""
      ],
      "execution_count": null,
      "outputs": [
        {
          "output_type": "error",
          "ename": "AssertionError",
          "evalue": "ignored",
          "traceback": [
            "\u001b[0;31m---------------------------------------------------------------------------\u001b[0m",
            "\u001b[0;31mAssertionError\u001b[0m                            Traceback (most recent call last)",
            "\u001b[0;32m<ipython-input-73-491d3b62cfb1>\u001b[0m in \u001b[0;36m<module>\u001b[0;34m()\u001b[0m\n\u001b[0;32m----> 1\u001b[0;31m \u001b[0;32massert\u001b[0m \u001b[0;32mFalse\u001b[0m\u001b[0;34m,\u001b[0m \u001b[0;34m\"do not run rest of cells when using 'run all'\"\u001b[0m\u001b[0;34m\u001b[0m\u001b[0;34m\u001b[0m\u001b[0m\n\u001b[0m",
            "\u001b[0;31mAssertionError\u001b[0m: do not run rest of cells when using 'run all'"
          ]
        }
      ]
    },
    {
      "cell_type": "code",
      "metadata": {
        "id": "SyCH4ueuJr-U",
        "colab_type": "code",
        "colab": {}
      },
      "source": [
        "from ipywidgets import interact, IntSlider\n",
        "\n",
        "H = [join(\"horizontal\", f) for f in listdir(\"horizontal\") if isfile(join(\"horizontal\", f))]\n",
        "\n",
        "@interact(i=IntSlider(min=0, max=len(H)-1))\n",
        "def show(i):\n",
        "    data = pandas.read_csv(H[i], sep=\" \", names=[\"time\", \"x\", \"y\", \"z\", \"a\", \"p\", \"r\"])\n",
        "    \n",
        "    data[\"time\"] //= 1000000\n",
        "    \n",
        "    #16 obserwacji na 1s\n",
        "    data[\"time\"] //= 62.5 \n",
        "    data = data.groupby('time').mean()\n",
        "    \n",
        "    print(data[:19].to_numpy().flatten().dtype)\n",
        "#     plt.figure()\n",
        "#     data['x'].plot()\n",
        "#     data['y'].plot()\n",
        "#     data['z'].plot()\n"
      ],
      "execution_count": null,
      "outputs": []
    },
    {
      "cell_type": "code",
      "metadata": {
        "id": "-bzSrCRlJx2Q",
        "colab_type": "code",
        "colab": {}
      },
      "source": [
        "def approxByKPoints(x, k):\n",
        "    points = [int(round(p)) for p in np.linspace(0, len(x), k+1)]\n",
        "    \n",
        "    res = [np.mean(x[points[i]:points[i+1]]) for i in range(k)]      \n",
        "        \n",
        "    return res\n",
        "\n",
        "print(approxByKPoints([1,2,3,4,5,4,3,2,1,2], 3))"
      ],
      "execution_count": null,
      "outputs": []
    }
  ]
}