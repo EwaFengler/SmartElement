{
 "nbformat": 4,
 "nbformat_minor": 0,
 "metadata": {
  "colab": {
   "name": "TP_model.ipynb",
   "provenance": [],
   "collapsed_sections": []
  },
  "kernelspec": {
   "name": "python3",
   "language": "python",
   "display_name": "Python 3"
  }
 },
 "cells": [
  {
   "cell_type": "code",
   "metadata": {
    "id": "1NK8JEJUhNZl",
    "colab_type": "code",
    "colab": {
     "base_uri": "https://localhost:8080/",
     "height": 439
    },
    "outputId": "8db7fcf4-6260-4ac0-cad1-145e75c2dc83"
   },
   "source": [
    "import os\n",
    "\n",
    "if not os.path.isdir('SmartElementData'):\n",
    "    !git clone https: // github.com / EwaFengler / SmartElementData\n",
    "else:\n",
    "    print('skipping')"
   ],
   "execution_count": 2,
   "outputs": [
    {
     "name": "stdout",
     "output_type": "stream",
     "text": [
      "skipping\n"
     ]
    }
   ]
  },
  {
   "cell_type": "code",
   "metadata": {
    "id": "AEBHhePhJkCL",
    "colab_type": "code",
    "colab": {}
   },
   "source": [
    "from os import listdir\n",
    "from os.path import isfile, join\n",
    "import numpy as np\n",
    "\n",
    "import pandas as pd\n",
    "import tensorflow as tf"
   ],
   "execution_count": 2,
   "outputs": []
  },
  {
   "cell_type": "code",
   "metadata": {
    "id": "RJisXGNL31Xa",
    "colab_type": "code",
    "colab": {}
   },
   "source": [
    "data_path = 'SmartElementData/'\n",
    "\n",
    "DATA_SERIES = 3\n",
    "\n",
    "SIZE = DATA_SERIES * 20"
   ],
   "execution_count": 6,
   "outputs": []
  },
  {
   "cell_type": "code",
   "metadata": {
    "id": "Y6AGIuaOJrsr",
    "colab_type": "code",
    "colab": {}
   },
   "source": [
    "def moves_generator(path, y):\n",
    "    def prepare_moves():\n",
    "        files = [join(path, f) for f in listdir(path) if isfile(join(path, f))]\n",
    "\n",
    "        for file in files:\n",
    "            data = pd.read_csv(file, sep=' ', usecols=[0, 1, 2, 6], names=['time', 'x', 'y', 'zg'])\n",
    "\n",
    "            data[\"time\"] //= 1000000\n",
    "            #16 observations per second\n",
    "            data[\"time\"] //= 62.5\n",
    "            data = data.groupby('time').mean()\n",
    "\n",
    "            data = data[:19].to_numpy().flatten()\n",
    "            yield data, y\n",
    "\n",
    "    return prepare_moves"
   ],
   "execution_count": 4,
   "outputs": []
  },
  {
   "cell_type": "code",
   "metadata": {
    "id": "lZw2lqqpJGsE",
    "colab_type": "code",
    "colab": {}
   },
   "source": [
    "def random_generator(path, step):\n",
    "    def prepare_random():\n",
    "        files = [join(path, f) for f in listdir(path) if isfile(join(path, f))]\n",
    "\n",
    "        for file in files:\n",
    "            data = pd.read_csv(file, sep=' ', usecols=[0, 1, 2, 6], names=['time', 'x', 'y', 'zg'])\n",
    "\n",
    "            data[\"time\"] //= 1000000\n",
    "            #16 observations per second\n",
    "            data[\"time\"] //= 62.5\n",
    "            data = data.groupby('time').mean()\n",
    "\n",
    "            i = 0\n",
    "            while i + 20 < len(data):\n",
    "                x = data[i:i + 19].to_numpy().flatten()\n",
    "                y = [0, 0, 0]\n",
    "                if len(x) == SIZE:\n",
    "                    yield x, y\n",
    "                i += step\n",
    "\n",
    "    return prepare_random\n"
   ],
   "execution_count": 5,
   "outputs": []
  },
  {
   "cell_type": "code",
   "metadata": {
    "id": "vc0AD_10Jr5F",
    "colab_type": "code",
    "colab": {}
   },
   "source": [
    "params = {'output_types': (tf.float32, tf.int64), 'output_shapes': ((SIZE,), (3,))}\n",
    "ds_eh = tf.data.Dataset.from_generator(moves_generator(data_path + 'E/horizontal', [1, 0, 0]), **params)\n",
    "ds_dh = tf.data.Dataset.from_generator(moves_generator(data_path + 'D/horizontal', [1, 0, 0]), **params)\n",
    "ds_ev = tf.data.Dataset.from_generator(moves_generator(data_path + 'E/vertical', [0, 1, 0]), **params)\n",
    "ds_dv = tf.data.Dataset.from_generator(moves_generator(data_path + 'D/vertical', [0, 1, 0]), **params)\n",
    "ds_ef = tf.data.Dataset.from_generator(moves_generator(data_path + 'E/forward', [0, 0, 1]), **params)\n",
    "ds_df = tf.data.Dataset.from_generator(moves_generator(data_path + 'D/forward', [0, 0, 1]), **params)\n",
    "ds_er = tf.data.Dataset.from_generator(random_generator(data_path + 'E/random', 5), **params)\n",
    "ds_dr = tf.data.Dataset.from_generator(random_generator(data_path + 'D/random', 5), **params)\n"
   ],
   "execution_count": 8,
   "outputs": []
  },
  {
   "cell_type": "code",
   "metadata": {
    "id": "bmwfUszEfEEg",
    "colab_type": "code",
    "colab": {}
   },
   "source": [
    "true_move_ds = [ds_eh, ds_dh, ds_ev, ds_dv, ds_ef, ds_df]\n",
    "\n",
    "ds_train = ds_er.skip(50).concatenate(ds_dr.skip(50))\n",
    "for ds in true_move_ds:\n",
    "    ds_train = ds_train.concatenate(ds.skip(15))\n",
    "ds_train = ds_train.shuffle(2000).batch(32)\n",
    "\n",
    "ds_test = ds_er.take(50).concatenate(ds_dr.take(50))\n",
    "for ds in true_move_ds:\n",
    "    ds_test = ds_test.concatenate(ds.take(15))\n",
    "ds_test = ds_test.shuffle(2000).batch(32)\n",
    "\n",
    "ds_all = ds_er.concatenate(ds_dr)\n",
    "for ds in true_move_ds:\n",
    "    ds_all = ds_all.concatenate(ds)\n",
    "ds_all = ds_all.shuffle(2000).batch(32)"
   ],
   "execution_count": 22,
   "outputs": []
  },
  {
   "cell_type": "code",
   "metadata": {
    "id": "VFzhyRCLLUhr",
    "colab_type": "code",
    "colab": {
     "base_uri": "https://localhost:8080/",
     "height": 403
    },
    "outputId": "a4a02fdb-7857-4670-fc5a-3cac457fe026"
   },
   "source": [
    "model = tf.keras.Sequential([\n",
    "    tf.keras.layers.Dense(100, 'relu'),\n",
    "    tf.keras.layers.Dropout(0.2),\n",
    "    tf.keras.layers.Dense(64, 'relu'),\n",
    "    tf.keras.layers.Dropout(0.2),\n",
    "    tf.keras.layers.Dense(32, 'relu'),\n",
    "    tf.keras.layers.Dropout(0.2),\n",
    "    tf.keras.layers.Dense(3, 'sigmoid')\n",
    "], name='model')\n",
    "\n",
    "model.compile(optimizer='adam',\n",
    "              loss=tf.keras.losses.BinaryCrossentropy(),\n",
    "              metrics=['binary_accuracy'])\n",
    "\n",
    "model.fit(ds_train, epochs=10, validation_data=ds_test, shuffle=True)"
   ],
   "execution_count": 23,
   "outputs": [
    {
     "name": "stdout",
     "output_type": "stream",
     "text": [
      "Epoch 1/10\n",
      "27/27 [==============================] - 4s 30ms/step - loss: 0.9518 - binary_accuracy: 0.7055 - val_loss: 0.3421 - val_binary_accuracy: 0.8544\n",
      "Epoch 2/10\n",
      "27/27 [==============================] - 4s 26ms/step - loss: 0.4175 - binary_accuracy: 0.8283 - val_loss: 0.2967 - val_binary_accuracy: 0.9035\b\b\b\b\b\b\b\b\b\b\b\b\b\b\b\b\b\b\b\b\b\b\b\b\b\b\b\b\b\b\b\b\b\b\b\b\b\b\b\n",
      "Epoch 3/10\n",
      "27/27 [==============================] - 4s 26ms/step - loss: 0.2787 - binary_accuracy: 0.8815 - val_loss: 0.2347 - val_binary_accuracy: 0.9351\b\b\b\b\b\b\b\b\b\b\b\b\b\b\b\b\b\b\b\b\b\b\b\b\b\b\b\b\b\b\b\b\b\b\b\b\b\b\b\n",
      "Epoch 4/10\n",
      "27/27 [==============================] - 4s 26ms/step - loss: 0.2265 - binary_accuracy: 0.9106 - val_loss: 0.1998 - val_binary_accuracy: 0.9404\b\b\b\b\b\b\b\b\b\b\b\b\b\b\b\b\b\b\b\b\b\b\b\b\b\b\b\b\b\b\b\b\b\b\b\b\b\b\b\n",
      "Epoch 5/10\n",
      "27/27 [==============================] - 4s 25ms/step - loss: 0.1811 - binary_accuracy: 0.9308 - val_loss: 0.1851 - val_binary_accuracy: 0.9439\b\b\b\b\b\b\b\b\b\b\b\b\b\b\b\b\b\b\b\b\b\b\b\b\b\b\b\b\b\b\b\b\b\b\b\b\b\b\b\n",
      "Epoch 6/10\n",
      "27/27 [==============================] - 4s 27ms/step - loss: 0.1471 - binary_accuracy: 0.9472 - val_loss: 0.1794 - val_binary_accuracy: 0.9439\b\b\b\b\b\b\b\b\b\b\b\b\b\b\b\b\b\b\b\b\b\b\b\b\b\b\b\b\b\b\b\b\b\b\b\b\b\b\b\n",
      "Epoch 7/10\n",
      "27/27 [==============================] - 4s 26ms/step - loss: 0.1171 - binary_accuracy: 0.9549 - val_loss: 0.1622 - val_binary_accuracy: 0.9526\b\b\b\b\b\b\b\b\b\b\b\b\b\b\b\b\b\b\b\b\b\b\b\b\b\b\b\b\b\b\b\b\b\b\b\b\b\b\b\n",
      "Epoch 8/10\n",
      "27/27 [==============================] - 4s 25ms/step - loss: 0.1010 - binary_accuracy: 0.9631 - val_loss: 0.1371 - val_binary_accuracy: 0.9596\b\b\b\b\b\b\b\b\b\b\b\b\b\b\b\b\b\b\b\b\b\b\b\b\b\b\b\b\b\b\b\b\b\b\b\b\b\b\b\n",
      "Epoch 9/10\n",
      "27/27 [==============================] - 4s 29ms/step - loss: 0.0939 - binary_accuracy: 0.9681 - val_loss: 0.1327 - val_binary_accuracy: 0.9596\b\b\b\b\b\b\b\b\b\b\b\b\b\b\b\b\b\b\b\b\b\b\b\b\b\b\b\b\b\b\b\b\b\b\b\b\b\b\b\n",
      "Epoch 10/10\n",
      "27/27 [==============================] - 4s 26ms/step - loss: 0.0783 - binary_accuracy: 0.9709 - val_loss: 0.1230 - val_binary_accuracy: 0.9649\b\b\b\b\b\b\b\b\b\b\b\b\b\b\b\b\b\b\b\b\b\b\b\b\b\b\b\b\b\b\b\b\b\b\b\b\b\b\b\n"
     ]
    },
    {
     "data": {
      "text/plain": "<tensorflow.python.keras.callbacks.History at 0x7fdf56d07dc0>"
     },
     "execution_count": 23,
     "metadata": {},
     "output_type": "execute_result"
    }
   ]
  },
  {
   "cell_type": "code",
   "metadata": {
    "id": "PxNazHWlMq4C",
    "colab_type": "code",
    "colab": {
     "base_uri": "https://localhost:8080/",
     "height": 35
    },
    "outputId": "3fbc0c3e-54cc-4e81-807b-29b65b7581b7"
   },
   "source": [
    "model.predict(ds_df.take(1).batch(1))"
   ],
   "execution_count": 24,
   "outputs": [
    {
     "data": {
      "text/plain": "array([[2.6521087e-04, 2.3554308e-06, 9.7975791e-01]], dtype=float32)"
     },
     "execution_count": 24,
     "metadata": {},
     "output_type": "execute_result"
    }
   ]
  },
  {
   "cell_type": "code",
   "execution_count": 25,
   "outputs": [
    {
     "name": "stdout",
     "output_type": "stream",
     "text": [
      "Epoch 1/10\n",
      "33/33 [==============================] - 3s 1ms/step - loss: 0.0883 - binary_accuracy: 0.9695\b\b\b\b\b\b\b\b\b\b\b\b\b\b\b\b\b\b\b\b\b\b\b\b\b\b\b\b\b\b\b\b\b\b\b\b\b\b\b\b\b\b\b\b\b\n",
      "Epoch 2/10\n",
      "33/33 [==============================] - 3s 1ms/step - loss: 0.0609 - binary_accuracy: 0.9819\b\b\b\b\b\b\b\b\b\b\b\b\b\b\b\b\b\b\b\b\b\b\b\b\b\b\b\b\b\b\b\b\b\b\b\b\b\b\b\b\b\b\b\b\b\b\b\b\b\b\b\b\b\b\b\b\b\b\b\b\b\b\b\b\b\b\b\b\b\b\b\b\b\b\b\b\b\b\b\b\b\b\b\b\b\b\b\b\b\n",
      "Epoch 3/10\n",
      "33/33 [==============================] - 3s 1ms/step - loss: 0.0532 - binary_accuracy: 0.9841\b\b\b\b\b\b\b\b\b\b\b\b\b\b\b\b\b\b\b\b\b\b\b\b\b\b\b\b\b\b\b\b\b\b\b\b\b\b\b\b\b\b\b\b\b\b\b\b\b\b\b\b\b\b\b\b\b\b\b\b\b\b\b\b\b\b\b\b\b\b\b\b\b\b\b\b\b\b\b\b\b\b\b\b\b\b\b\b\b\n",
      "Epoch 4/10\n",
      "33/33 [==============================] - 3s 1ms/step - loss: 0.0520 - binary_accuracy: 0.9831\b\b\b\b\b\b\b\b\b\b\b\b\b\b\b\b\b\b\b\b\b\b\b\b\b\b\b\b\b\b\b\b\b\b\b\b\b\b\b\b\b\b\b\b\b\b\b\b\b\b\b\b\b\b\b\b\b\b\b\b\b\b\b\b\b\b\b\b\b\b\b\b\b\b\b\b\b\b\b\b\b\b\b\b\b\b\b\b\b\n",
      "Epoch 5/10\n",
      "33/33 [==============================] - 3s 1ms/step - loss: 0.0434 - binary_accuracy: 0.9847\b\b\b\b\b\b\b\b\b\b\b\b\b\b\b\b\b\b\b\b\b\b\b\b\b\b\b\b\b\b\b\b\b\b\b\b\b\b\b\b\b\b\b\b\b\b\b\b\b\b\b\b\b\b\b\b\b\b\b\b\b\b\b\b\b\b\b\b\b\b\b\b\b\b\b\b\b\b\b\b\b\b\b\b\b\b\b\b\b\n",
      "Epoch 6/10\n",
      "33/33 [==============================] - 3s 1ms/step - loss: 0.0260 - binary_accuracy: 0.9936\b\b\b\b\b\b\b\b\b\b\b\b\b\b\b\b\b\b\b\b\b\b\b\b\b\b\b\b\b\b\b\b\b\b\b\b\b\b\b\b\b\b\b\b\b\b\b\b\b\b\b\b\b\b\b\b\b\b\b\b\b\b\b\b\b\b\b\b\b\b\b\b\b\b\b\b\b\b\b\b\b\b\b\b\b\b\b\b\b\n",
      "Epoch 7/10\n",
      "33/33 [==============================] - 3s 1ms/step - loss: 0.0252 - binary_accuracy: 0.9917\b\b\b\b\b\b\b\b\b\b\b\b\b\b\b\b\b\b\b\b\b\b\b\b\b\b\b\b\b\b\b\b\b\b\b\b\b\b\b\b\b\b\b\b\b\b\b\b\b\b\b\b\b\b\b\b\b\b\b\b\b\b\b\b\b\b\b\b\b\b\b\b\b\b\b\b\b\b\b\b\b\b\b\b\b\b\b\b\b\n",
      "Epoch 8/10\n",
      "33/33 [==============================] - 3s 1ms/step - loss: 0.0325 - binary_accuracy: 0.9911\b\b\b\b\b\b\b\b\b\b\b\b\b\b\b\b\b\b\b\b\b\b\b\b\b\b\b\b\b\b\b\b\b\b\b\b\b\b\b\b\b\b\b\b\b\b\b\b\b\b\b\b\b\b\b\b\b\b\b\b\b\b\b\b\b\b\b\b\b\b\b\b\b\b\b\b\b\b\b\b\b\b\b\b\b\b\b\b\b\n",
      "Epoch 9/10\n",
      "33/33 [==============================] - 3s 2ms/step - loss: 0.0325 - binary_accuracy: 0.9892\b\b\b\b\b\b\b\b\b\b\b\b\b\b\b\b\b\b\b\b\b\b\b\b\b\b\b\b\b\b\b\b\b\b\b\b\b\b\b\b\b\b\b\b\b\b\b\b\b\b\b\b\b\b\b\b\b\b\b\b\b\b\b\b\b\b\b\b\b\b\b\b\b\b\b\b\b\b\b\b\b\b\b\b\b\b\b\b\b\b\b\b\b\b\b\b\b\b\b\b\b\b\b\b\b\b\b\b\b\b\b\b\b\b\b\b\b\b\b\b\b\b\b\b\b\b\b\b\b\b\b\b\b\b\b\b\b\b\b\b\b\b\b\b\b\b\b\b\b\b\b\b\b\b\b\b\b\b\b\b\b\b\b\b\b\b\b\b\b\b\b\b\b\b\b\b\b\b\n",
      "Epoch 10/10\n",
      "33/33 [==============================] - 3s 1ms/step - loss: 0.0283 - binary_accuracy: 0.9920\b\b\b\b\b\b\b\b\b\b\b\b\b\b\b\b\b\b\b\b\b\b\b\b\b\b\b\b\b\b\b\b\b\b\b\b\b\b\b\b\b\b\b\b\b\b\b\b\b\b\b\b\b\b\b\b\b\b\b\b\b\b\b\b\b\b\b\b\b\b\b\b\b\b\b\b\b\b\b\b\b\b\b\b\b\b\b\b\b\n"
     ]
    },
    {
     "data": {
      "text/plain": "<tensorflow.python.keras.callbacks.History at 0x7fdf568dc4c0>"
     },
     "execution_count": 25,
     "metadata": {},
     "output_type": "execute_result"
    }
   ],
   "source": [
    "model.fit(ds_all, epochs=10, shuffle=True)"
   ],
   "metadata": {
    "collapsed": false,
    "pycharm": {
     "name": "#%%\n"
    }
   }
  },
  {
   "cell_type": "code",
   "metadata": {
    "id": "ERz1nTF0dKMz",
    "colab_type": "code",
    "colab": {
     "base_uri": "https://localhost:8080/",
     "height": 421
    },
    "outputId": "6684ad21-15cc-42bd-cb5d-fb507ce9ac20"
   },
   "source": [
    "model.summary()"
   ],
   "execution_count": 26,
   "outputs": [
    {
     "name": "stdout",
     "output_type": "stream",
     "text": [
      "Model: \"model\"\n",
      "_________________________________________________________________\n",
      "Layer (type)                 Output Shape              Param #   \n",
      "=================================================================\n",
      "dense (Dense)                (None, 100)               6100      \n",
      "_________________________________________________________________\n",
      "dropout (Dropout)            (None, 100)               0         \n",
      "_________________________________________________________________\n",
      "dense_1 (Dense)              (None, 64)                6464      \n",
      "_________________________________________________________________\n",
      "dropout_1 (Dropout)          (None, 64)                0         \n",
      "_________________________________________________________________\n",
      "dense_2 (Dense)              (None, 32)                2080      \n",
      "_________________________________________________________________\n",
      "dropout_2 (Dropout)          (None, 32)                0         \n",
      "_________________________________________________________________\n",
      "dense_3 (Dense)              (None, 3)                 99        \n",
      "=================================================================\n",
      "Total params: 14,743\n",
      "Trainable params: 14,743\n",
      "Non-trainable params: 0\n",
      "_________________________________________________________________\n"
     ]
    }
   ]
  },
  {
   "cell_type": "code",
   "metadata": {
    "id": "CIwmHeYEhDXA",
    "colab_type": "code",
    "colab": {
     "base_uri": "https://localhost:8080/",
     "height": 54
    },
    "outputId": "a729db67-a6d5-446e-a2f2-fc2d15602777"
   },
   "source": [
    "model.save('MLP_model', include_optimizer=False)"
   ],
   "execution_count": null,
   "outputs": [
    {
     "output_type": "stream",
     "text": [
      "INFO:tensorflow:Assets written to: MLP_model/assets\n"
     ],
     "name": "stdout"
    },
    {
     "output_type": "stream",
     "text": [
      "INFO:tensorflow:Assets written to: MLP_model/assets\n"
     ],
     "name": "stderr"
    }
   ]
  },
  {
   "cell_type": "code",
   "metadata": {
    "id": "PnFp_0cTWuXN",
    "colab_type": "code",
    "colab": {}
   },
   "source": [
    "converter = tf.lite.TFLiteConverter.from_keras_model(model)\n",
    "tflite_model = converter.convert()\n",
    "\n",
    "f = open('model_xy_zgravity.tflite', 'wb')\n",
    "f.write(tflite_model)\n",
    "f.close()"
   ],
   "execution_count": null,
   "outputs": []
  },
  {
   "cell_type": "code",
   "metadata": {
    "id": "UgxdjQA3My1-",
    "colab_type": "code",
    "colab": {}
   },
   "source": [],
   "execution_count": null,
   "outputs": []
  },
  {
   "cell_type": "code",
   "metadata": {
    "id": "psJmKdVKMy9_",
    "colab_type": "code",
    "colab": {}
   },
   "source": [],
   "execution_count": null,
   "outputs": []
  },
  {
   "cell_type": "code",
   "metadata": {
    "id": "vXKj9rx_My65",
    "colab_type": "code",
    "colab": {}
   },
   "source": [],
   "execution_count": null,
   "outputs": []
  },
  {
   "cell_type": "code",
   "metadata": {
    "id": "fQXqhtVFLUdw",
    "colab_type": "code",
    "colab": {}
   },
   "source": [],
   "execution_count": null,
   "outputs": []
  },
  {
   "cell_type": "code",
   "metadata": {
    "id": "08XgLiu_LUah",
    "colab_type": "code",
    "colab": {}
   },
   "source": [],
   "execution_count": null,
   "outputs": []
  },
  {
   "cell_type": "markdown",
   "metadata": {
    "id": "alzFfuqyad6-",
    "colab_type": "text"
   },
   "source": [
    "STASH:\n"
   ]
  },
  {
   "cell_type": "code",
   "metadata": {
    "id": "jcN22Aljd7sj",
    "colab_type": "code",
    "colab": {
     "base_uri": "https://localhost:8080/",
     "height": 172
    },
    "outputId": "e075560e-e06e-47ec-a4c9-e0a388271a7c"
   },
   "source": [
    "assert False, \"do not run rest of cells when using 'run all'\""
   ],
   "execution_count": null,
   "outputs": [
    {
     "output_type": "error",
     "ename": "AssertionError",
     "evalue": "ignored",
     "traceback": [
      "\u001B[0;31m---------------------------------------------------------------------------\u001B[0m",
      "\u001B[0;31mAssertionError\u001B[0m                            Traceback (most recent call last)",
      "\u001B[0;32m<ipython-input-73-491d3b62cfb1>\u001B[0m in \u001B[0;36m<module>\u001B[0;34m()\u001B[0m\n\u001B[0;32m----> 1\u001B[0;31m \u001B[0;32massert\u001B[0m \u001B[0;32mFalse\u001B[0m\u001B[0;34m,\u001B[0m \u001B[0;34m\"do not run rest of cells when using 'run all'\"\u001B[0m\u001B[0;34m\u001B[0m\u001B[0;34m\u001B[0m\u001B[0m\n\u001B[0m",
      "\u001B[0;31mAssertionError\u001B[0m: do not run rest of cells when using 'run all'"
     ]
    }
   ]
  },
  {
   "cell_type": "code",
   "metadata": {
    "id": "SyCH4ueuJr-U",
    "colab_type": "code",
    "colab": {}
   },
   "source": [
    "from ipywidgets import interact, IntSlider\n",
    "\n",
    "H = [join(\"horizontal\", f) for f in listdir(\"horizontal\") if isfile(join(\"horizontal\", f))]\n",
    "\n",
    "\n",
    "@interact(i=IntSlider(min=0, max=len(H) - 1))\n",
    "def show(i):\n",
    "    data = pandas.read_csv(H[i], sep=\" \", names=[\"time\", \"x\", \"y\", \"z\", \"a\", \"p\", \"r\"])\n",
    "\n",
    "    data[\"time\"] //= 1000000\n",
    "\n",
    "    #16 obserwacji na 1s\n",
    "    data[\"time\"] //= 62.5\n",
    "    data = data.groupby('time').mean()\n",
    "\n",
    "    print(data[:19].to_numpy().flatten().dtype)\n",
    "\n",
    "#     plt.figure()\n",
    "#     data['x'].plot()\n",
    "#     data['y'].plot()\n",
    "#     data['z'].plot()\n"
   ],
   "execution_count": null,
   "outputs": []
  },
  {
   "cell_type": "code",
   "metadata": {
    "id": "-bzSrCRlJx2Q",
    "colab_type": "code",
    "colab": {}
   },
   "source": [
    "def approxByKPoints(x, k):\n",
    "    points = [int(round(p)) for p in np.linspace(0, len(x), k + 1)]\n",
    "\n",
    "    res = [np.mean(x[points[i]:points[i + 1]]) for i in range(k)]\n",
    "\n",
    "    return res\n",
    "\n",
    "\n",
    "print(approxByKPoints([1, 2, 3, 4, 5, 4, 3, 2, 1, 2], 3))"
   ],
   "execution_count": null,
   "outputs": []
  }
 ]
}